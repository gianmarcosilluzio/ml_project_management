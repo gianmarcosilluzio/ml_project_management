{
  "nbformat": 4,
  "nbformat_minor": 0,
  "metadata": {
    "colab": {
      "name": "ML.ipynb",
      "provenance": [],
      "collapsed_sections": [
        "n0ska9hHgTNu",
        "Fco1H2UZxtYR"
      ]
    },
    "kernelspec": {
      "name": "python3",
      "display_name": "Python 3"
    },
    "language_info": {
      "name": "python"
    }
  },
  "cells": [
    {
      "cell_type": "markdown",
      "metadata": {
        "id": "jOKOUqxsgIiV"
      },
      "source": [
        "##**1 Caricamento Data Set**"
      ]
    },
    {
      "cell_type": "markdown",
      "metadata": {
        "id": "T_AD4_2n3MAk"
      },
      "source": [
        "### 1.1 Caricamento Data Set\n",
        "**ISTRUZIONI**\n",
        "*  Runnare questa riga\n",
        "*  Cliccare il bottone upload\n",
        "*  Selezionare il dataset tasks.csv in allegato con la Relazione"
      ]
    },
    {
      "cell_type": "code",
      "metadata": {
        "colab": {
          "resources": {
            "http://localhost:8080/nbextensions/google.colab/files.js": {
              "data": "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",
              "ok": true,
              "headers": [
                [
                  "content-type",
                  "application/javascript"
                ]
              ],
              "status": 200,
              "status_text": ""
            }
          },
          "base_uri": "https://localhost:8080/",
          "height": 73
        },
        "id": "g05_aY6ovuKP",
        "outputId": "3a416f87-f1cc-4758-96fd-fb80f244a240"
      },
      "source": [
        "import pandas as pd\n",
        "import numpy as np\n",
        "import io\n",
        "from google.colab import files\n",
        "import torch\n",
        "\n",
        "uploaded = files.upload()\n",
        "data = pd.read_csv(io.BytesIO(uploaded['tasks.csv']))"
      ],
      "execution_count": 309,
      "outputs": [
        {
          "output_type": "display_data",
          "data": {
            "text/html": [
              "\n",
              "     <input type=\"file\" id=\"files-0262ffa4-47eb-44ea-b3e6-8fcbbf1f6f8a\" name=\"files[]\" multiple disabled\n",
              "        style=\"border:none\" />\n",
              "     <output id=\"result-0262ffa4-47eb-44ea-b3e6-8fcbbf1f6f8a\">\n",
              "      Upload widget is only available when the cell has been executed in the\n",
              "      current browser session. Please rerun this cell to enable.\n",
              "      </output>\n",
              "      <script src=\"/nbextensions/google.colab/files.js\"></script> "
            ],
            "text/plain": [
              "<IPython.core.display.HTML object>"
            ]
          },
          "metadata": {}
        },
        {
          "output_type": "stream",
          "name": "stdout",
          "text": [
            "Saving tasks.csv to tasks (8).csv\n"
          ]
        }
      ]
    },
    {
      "cell_type": "markdown",
      "metadata": {
        "id": "TmauMpwK1TGP"
      },
      "source": [
        "### 1.2 Training e Testing del regressore lineare\n",
        "**ISTRUZIONI**\n",
        "*  Settare i prametri di questa riga\n",
        "*  Runnare questa riga\n",
        "*  Runnare l'intero paragrafo *2 Pre Processing dei dati*\n",
        "*  Runnare l'intero paragrafo *3 Regressione Lineare*"
      ]
    },
    {
      "cell_type": "code",
      "metadata": {
        "id": "nS-n-riioC3e"
      },
      "source": [
        "lr_linear = 0.1\n",
        "epochs_linear = 30\n",
        "mode_train_linear = True #modalità test (True = attiva)\n",
        "mode_test_linear = True #modalità test (True = attiva)"
      ],
      "execution_count": 321,
      "outputs": []
    },
    {
      "cell_type": "markdown",
      "metadata": {
        "id": "lQNELrew1507"
      },
      "source": [
        "### 1.3 Training e Testing del regressore logistico\n",
        "**ISTRUZIONI**\n",
        "*  Settare i prametri di questa riga\n",
        "*  Runnare questa riga\n",
        "*  Runnare l'intero paragrafo *2 Pre Processing dei dati*\n",
        "*  Runnare l'intero paragrafo *4 Regressione Logistica*"
      ]
    },
    {
      "cell_type": "code",
      "metadata": {
        "id": "_qxhWZVL02Zn"
      },
      "source": [
        "lr_logistic = 0.01\n",
        "epochs_logistic = 50\n",
        "mode_train_logistic = True #modalità test (True = attiva)\n",
        "mode_test_logistic = True #modalità test (True = attiva)"
      ],
      "execution_count": 330,
      "outputs": []
    },
    {
      "cell_type": "markdown",
      "metadata": {
        "id": "BZ7jWAmm2bor"
      },
      "source": [
        "### 1.4 Caricamento Data Set Inferenza\n",
        "**ISTRUZIONI**\n",
        "*  Eseguire le istruzioni indicate nel paragrafo 1.2 e 1.3\n",
        "*  Caricare i dati da inferire runnando questa riga\n",
        "*  Runnare l'intero paragrafo *2 Pre Processing dei dati*\n",
        "*  Runnare l'intero paragrafo *5 Inferenza dei dati*"
      ]
    },
    {
      "cell_type": "code",
      "metadata": {
        "colab": {
          "resources": {
            "http://localhost:8080/nbextensions/google.colab/files.js": {
              "data": "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",
              "ok": true,
              "headers": [
                [
                  "content-type",
                  "application/javascript"
                ]
              ],
              "status": 200,
              "status_text": ""
            }
          },
          "base_uri": "https://localhost:8080/",
          "height": 73
        },
        "id": "I5M0Zn9_2_au",
        "outputId": "7cfca6e6-b4bb-4564-91c9-39b885d49759"
      },
      "source": [
        "uploaded = files.upload()\n",
        "data = pd.read_csv(io.BytesIO(uploaded['tasks_inference.csv']))"
      ],
      "execution_count": 342,
      "outputs": [
        {
          "output_type": "display_data",
          "data": {
            "text/html": [
              "\n",
              "     <input type=\"file\" id=\"files-5906632d-b040-4fea-aaef-3470f95afb56\" name=\"files[]\" multiple disabled\n",
              "        style=\"border:none\" />\n",
              "     <output id=\"result-5906632d-b040-4fea-aaef-3470f95afb56\">\n",
              "      Upload widget is only available when the cell has been executed in the\n",
              "      current browser session. Please rerun this cell to enable.\n",
              "      </output>\n",
              "      <script src=\"/nbextensions/google.colab/files.js\"></script> "
            ],
            "text/plain": [
              "<IPython.core.display.HTML object>"
            ]
          },
          "metadata": {}
        },
        {
          "output_type": "stream",
          "name": "stdout",
          "text": [
            "Saving tasks_inference.csv to tasks_inference (6).csv\n"
          ]
        }
      ]
    },
    {
      "cell_type": "markdown",
      "metadata": {
        "id": "n0ska9hHgTNu"
      },
      "source": [
        "##**2 Pre Processing dei dati**"
      ]
    },
    {
      "cell_type": "markdown",
      "metadata": {
        "id": "LTOPyHfxgXUk"
      },
      "source": [
        "### 2.1 Eliminazione features nulle\n",
        "*   Eliminazione delle features con valori null per tutte i samples\n",
        "*   Setting della feature **Issue key** come chiave dei samples"
      ]
    },
    {
      "cell_type": "code",
      "metadata": {
        "id": "uFHgKhuhhoMt"
      },
      "source": [
        "data = data.dropna(axis='columns', how='all')"
      ],
      "execution_count": 343,
      "outputs": []
    },
    {
      "cell_type": "code",
      "metadata": {
        "id": "L8aFySTXjccK"
      },
      "source": [
        "data = data.set_index('Issue key')"
      ],
      "execution_count": 344,
      "outputs": []
    },
    {
      "cell_type": "markdown",
      "metadata": {
        "id": "2G0oMnaIhMkj"
      },
      "source": [
        "### 2.2 Feautures selection\n",
        "*   Eliminazione manuale delle features non significative\n",
        "*   Unificazione di features multiple in un unica feature che indica il numero totale delle features specifiche non nulle. Esempio:\n",
        "\n",
        "*Pre unificazione*\n",
        "\n",
        "| Issue key | Commento 1 | Commento 2 | Commento 3 |\n",
        "|------|------|------|------|\n",
        "|   KEY1  | Comment Example 1| NA| Comment Example 3| \n",
        "\n",
        "*Post unificazione*\n",
        "\n",
        "| Issue key | Commenti |\n",
        "|------|------|\n",
        "|   KEY1  | 2|"
      ]
    },
    {
      "cell_type": "code",
      "metadata": {
        "id": "T-si4aWEjejg"
      },
      "source": [
        "data = data.drop(['Summary', 'Created', 'Affects Version/s', 'Security Level', 'Time Spent', 'Work Ratio', 'Project type', 'Parent id', 'Issue id', 'Project key', 'Project name', 'Project lead', 'Project url', 'Updated', 'Votes'], axis=1)"
      ],
      "execution_count": 345,
      "outputs": []
    },
    {
      "cell_type": "code",
      "metadata": {
        "id": "zX5MKzdYorMH"
      },
      "source": [
        "data['Count Labels'] = data.filter(like='Labels').count(axis=1)\n",
        "data = data.drop(data.filter(like='Labels'), axis='columns')\n",
        "data['Count Watchers'] = data.filter(like='Watchers').count(axis=1)\n",
        "data = data.drop(data.filter(like='Watchers'), axis='columns')\n",
        "data['Count Comments'] = data.filter(like='Comment').count(axis=1)\n",
        "data = data.drop(data.filter(like='Comment'), axis='columns')\n",
        "data['Count Attachments'] = data.filter(like='Attachment').count(axis=1)\n",
        "data = data.drop(data.filter(like='Attachment'), axis='columns')\n",
        "data = data.drop(data.filter(like='Component/s.'), axis='columns')\n",
        "data = data.drop(data.filter(like='Custom field (WSOwner).'), axis='columns')\n",
        "data = data.drop(data.filter(like='Sprint.'), axis='columns')\n",
        "data = data.drop(data.filter(like='Outward'), axis='columns')\n",
        "data = data.drop(data.filter(like='Fix Version/s.'), axis='columns')\n",
        "data = data.drop(data.filter(like='Log Work.'), axis='columns')"
      ],
      "execution_count": 346,
      "outputs": []
    },
    {
      "cell_type": "markdown",
      "metadata": {
        "id": "JcBlCYF_h76M"
      },
      "source": [
        "### 2.3 Ridenominazione features\n",
        "Ridenominazione di alcune features in modo da renderle leggibili"
      ]
    },
    {
      "cell_type": "code",
      "metadata": {
        "id": "Eh31-f4idx_N"
      },
      "source": [
        "data = data.rename(columns={\"Custom field (Business Requestor)\": \"Business Requestor\", \"Custom field (Dev Team)\": \"Dev Team\", \"status\": \"Status\", \"Custom field (Environment)\" : \"Environment\", \"Custom field (Milestone)\" : \"Milestone\", \"Custom field (QA Team)\" : \"QA Team\", \"Custom field (WSOwner)\" : \"WSOwner\", \"Σ Original Estimate\" : \"Original Estimate\", \"Σ Remaining Estimate\" : \"Remaining Estimate\", \"Σ Time Spent\" : \"Time Spent\"})"
      ],
      "execution_count": 347,
      "outputs": []
    },
    {
      "cell_type": "markdown",
      "metadata": {
        "id": "MBhkv31FkpCa"
      },
      "source": [
        "### 2.4 Tipizzazione features\n",
        "*    Cambiamento di categorie di alcune features (esempio: da stringa a intero, da stringa a datetime)"
      ]
    },
    {
      "cell_type": "code",
      "metadata": {
        "id": "hlr4lDL5zh82"
      },
      "source": [
        "data[\"Issue Type\"] = data[\"Issue Type\"].astype('category')\n",
        "data[\"Issue Type Code\"] = data[\"Issue Type\"].cat.codes\n",
        "\n",
        "data[\"Status\"] = data[\"Status\"].astype('category')\n",
        "data[\"Status Code\"] = data[\"Status\"].cat.codes\n",
        "\n",
        "data[\"Status\"] = data[\"Status\"].astype('category')\n",
        "data[\"Status Code\"] = data[\"Status\"].cat.codes\n",
        "\n",
        "data[\"Priority\"] = data[\"Priority\"].astype('category')\n",
        "data[\"Priority Code\"] = data[\"Priority\"].cat.codes\n",
        "\n",
        "data[\"Resolution\"] = data[\"Resolution\"].astype('category')\n",
        "data[\"Resolution Code\"] = data[\"Resolution\"].cat.codes\n",
        "\n",
        "data[\"Status\"] = data[\"Status\"].astype('category')\n",
        "data[\"Status Code\"] = data[\"Status\"].cat.codes\n",
        "\n",
        "data[\"Assignee\"] = data[\"Assignee\"].astype('category')\n",
        "data[\"Assignee Code\"] = data[\"Assignee\"].cat.codes\n",
        "\n",
        "data[\"Reporter\"] = data[\"Reporter\"].astype('category')\n",
        "data[\"Reporter Code\"] = data[\"Reporter\"].cat.codes\n",
        "\n",
        "data[\"Creator\"] = data[\"Creator\"].astype('category')\n",
        "data[\"Creator Code\"] = data[\"Creator\"].cat.codes\n",
        "\n",
        "data[\"Fix Version/s\"] = data[\"Fix Version/s\"].astype('category')\n",
        "data[\"Fix Version/s Code\"] = data[\"Fix Version/s\"].cat.codes\n",
        "\n",
        "data[\"Component/s\"] = data[\"Component/s\"].astype('category')\n",
        "data[\"Component/s Code\"] = data[\"Component/s\"].cat.codes\n",
        "\n",
        "data[\"Dev Team\"] = data[\"Dev Team\"].astype('category')\n",
        "data[\"Dev Team Code\"] = data[\"Dev Team\"].cat.codes\n",
        "\n",
        "data[\"Status\"] = data[\"Status\"].astype('category')\n",
        "data[\"Status Code\"] = data[\"Status\"].cat.codes\n",
        "\n",
        "data[\"Environment\"] = data[\"Environment\"].astype('category')\n",
        "data[\"Environment Code\"] = data[\"Environment\"].cat.codes\n",
        "\n",
        "data[\"Milestone\"] = data[\"Milestone\"].astype('category')\n",
        "data[\"Milestone Code\"] = data[\"Milestone\"].cat.codes\n",
        "\n",
        "data[\"QA Team\"] = data[\"QA Team\"].astype('category')\n",
        "data[\"QA Team Code\"] = data[\"QA Team\"].cat.codes\n",
        "\n",
        "data[\"Sprint\"] = data[\"Sprint\"].astype('category')\n",
        "data[\"Sprint Code\"] = data[\"Sprint\"].cat.codes\n",
        "\n",
        "data[\"WSOwner\"] = data[\"WSOwner\"].astype('category')\n",
        "data[\"WSOwner Code\"] = data[\"WSOwner\"].cat.codes\n"
      ],
      "execution_count": 348,
      "outputs": []
    },
    {
      "cell_type": "code",
      "metadata": {
        "id": "P9yCfDxPyDCl"
      },
      "source": [
        "data['Resolved'] = pd.to_datetime(data['Resolved'], infer_datetime_format=True)\n",
        "data['Release Date'] = pd.to_datetime(data['Release Date'], infer_datetime_format=True)\n",
        "data['Delivery Date'] = data['Release Date'] - data['Resolved']"
      ],
      "execution_count": 349,
      "outputs": []
    },
    {
      "cell_type": "code",
      "metadata": {
        "id": "R2jCZ1NUvYqt"
      },
      "source": [
        "data = data.select_dtypes(['number'])"
      ],
      "execution_count": 350,
      "outputs": []
    },
    {
      "cell_type": "code",
      "metadata": {
        "id": "gCJd6oLKgU6b"
      },
      "source": [
        "def get_delivery_date(date):\n",
        "      return date.days\n",
        "\n",
        "data['Delivery Date'] = data['Delivery Date'].apply(get_delivery_date)"
      ],
      "execution_count": 351,
      "outputs": []
    },
    {
      "cell_type": "markdown",
      "metadata": {
        "id": "nzhj6Ddnnv61"
      },
      "source": [
        "### 2.5 Eliminazione samples nulli\n",
        "*Circa l'1% dei samples sono rimossi*"
      ]
    },
    {
      "cell_type": "code",
      "metadata": {
        "id": "U8D5k4sR0Nfr"
      },
      "source": [
        "data = data.dropna()"
      ],
      "execution_count": 352,
      "outputs": []
    },
    {
      "cell_type": "markdown",
      "metadata": {
        "id": "nPPBUy8-oSC2"
      },
      "source": [
        "### 2.6 Visualizzazione dei dati dopo il refactor"
      ]
    },
    {
      "cell_type": "code",
      "metadata": {
        "id": "hfoYP06qvbS8",
        "colab": {
          "base_uri": "https://localhost:8080/",
          "height": 0
        },
        "outputId": "5220b042-e98e-46b7-bd6d-e8f2107f533a"
      },
      "source": [
        "data"
      ],
      "execution_count": 353,
      "outputs": [
        {
          "output_type": "execute_result",
          "data": {
            "text/html": [
              "<div>\n",
              "<style scoped>\n",
              "    .dataframe tbody tr th:only-of-type {\n",
              "        vertical-align: middle;\n",
              "    }\n",
              "\n",
              "    .dataframe tbody tr th {\n",
              "        vertical-align: top;\n",
              "    }\n",
              "\n",
              "    .dataframe thead th {\n",
              "        text-align: right;\n",
              "    }\n",
              "</style>\n",
              "<table border=\"1\" class=\"dataframe\">\n",
              "  <thead>\n",
              "    <tr style=\"text-align: right;\">\n",
              "      <th></th>\n",
              "      <th>Issue Type Code</th>\n",
              "      <th>Status Code</th>\n",
              "      <th>Priority Code</th>\n",
              "      <th>Resolution Code</th>\n",
              "      <th>Assignee Code</th>\n",
              "      <th>Reporter Code</th>\n",
              "      <th>Creator Code</th>\n",
              "      <th>Fix Version/s Code</th>\n",
              "      <th>Component/s Code</th>\n",
              "      <th>Dev Team Code</th>\n",
              "      <th>Environment Code</th>\n",
              "      <th>Milestone Code</th>\n",
              "      <th>QA Team Code</th>\n",
              "      <th>Sprint Code</th>\n",
              "      <th>WSOwner Code</th>\n",
              "      <th>Delivery Date</th>\n",
              "    </tr>\n",
              "    <tr>\n",
              "      <th>Issue key</th>\n",
              "      <th></th>\n",
              "      <th></th>\n",
              "      <th></th>\n",
              "      <th></th>\n",
              "      <th></th>\n",
              "      <th></th>\n",
              "      <th></th>\n",
              "      <th></th>\n",
              "      <th></th>\n",
              "      <th></th>\n",
              "      <th></th>\n",
              "      <th></th>\n",
              "      <th></th>\n",
              "      <th></th>\n",
              "      <th></th>\n",
              "      <th></th>\n",
              "    </tr>\n",
              "  </thead>\n",
              "  <tbody>\n",
              "    <tr>\n",
              "      <th>KKK-25888</th>\n",
              "      <td>0</td>\n",
              "      <td>0</td>\n",
              "      <td>1</td>\n",
              "      <td>1</td>\n",
              "      <td>2</td>\n",
              "      <td>0</td>\n",
              "      <td>0</td>\n",
              "      <td>0</td>\n",
              "      <td>0</td>\n",
              "      <td>0</td>\n",
              "      <td>1</td>\n",
              "      <td>0</td>\n",
              "      <td>0</td>\n",
              "      <td>0</td>\n",
              "      <td>0</td>\n",
              "      <td>30</td>\n",
              "    </tr>\n",
              "    <tr>\n",
              "      <th>KKK-25889</th>\n",
              "      <td>1</td>\n",
              "      <td>0</td>\n",
              "      <td>0</td>\n",
              "      <td>2</td>\n",
              "      <td>0</td>\n",
              "      <td>0</td>\n",
              "      <td>0</td>\n",
              "      <td>0</td>\n",
              "      <td>1</td>\n",
              "      <td>-1</td>\n",
              "      <td>0</td>\n",
              "      <td>-1</td>\n",
              "      <td>-1</td>\n",
              "      <td>-1</td>\n",
              "      <td>-1</td>\n",
              "      <td>17</td>\n",
              "    </tr>\n",
              "    <tr>\n",
              "      <th>KKK-25160</th>\n",
              "      <td>2</td>\n",
              "      <td>1</td>\n",
              "      <td>0</td>\n",
              "      <td>0</td>\n",
              "      <td>1</td>\n",
              "      <td>1</td>\n",
              "      <td>1</td>\n",
              "      <td>0</td>\n",
              "      <td>2</td>\n",
              "      <td>-1</td>\n",
              "      <td>-1</td>\n",
              "      <td>-1</td>\n",
              "      <td>-1</td>\n",
              "      <td>1</td>\n",
              "      <td>1</td>\n",
              "      <td>18</td>\n",
              "    </tr>\n",
              "  </tbody>\n",
              "</table>\n",
              "</div>"
            ],
            "text/plain": [
              "           Issue Type Code  Status Code  ...  WSOwner Code  Delivery Date\n",
              "Issue key                                ...                             \n",
              "KKK-25888                0            0  ...             0             30\n",
              "KKK-25889                1            0  ...            -1             17\n",
              "KKK-25160                2            1  ...             1             18\n",
              "\n",
              "[3 rows x 16 columns]"
            ]
          },
          "metadata": {},
          "execution_count": 353
        }
      ]
    },
    {
      "cell_type": "markdown",
      "metadata": {
        "id": "kEK98R0rq94c"
      },
      "source": [
        "##**3 Regressione Lineare**"
      ]
    },
    {
      "cell_type": "markdown",
      "metadata": {
        "id": "arr0VFlPrObt"
      },
      "source": [
        "### 3.1 Normalizzazione dati\n",
        "*    Creazione del dataset di training\n",
        "*    Creazione del dataset di test\n",
        "*    Normalizzazione dei dati secondo il metodo zscore"
      ]
    },
    {
      "cell_type": "code",
      "metadata": {
        "id": "KE5pFElxwu1k"
      },
      "source": [
        "from sklearn.model_selection import train_test_split\n",
        "\n",
        "train, test = train_test_split(data, test_size=0.2)\n",
        "X_training = torch.Tensor(train.values)\n",
        "Y_training = torch.Tensor(train[\"Delivery Date\"].values)"
      ],
      "execution_count": 322,
      "outputs": []
    },
    {
      "cell_type": "code",
      "metadata": {
        "id": "6rPRRkhssDdu"
      },
      "source": [
        "X_testing = torch.Tensor(test.values)\n",
        "Y_testing = torch.Tensor(test[\"Delivery Date\"].values)"
      ],
      "execution_count": 323,
      "outputs": []
    },
    {
      "cell_type": "code",
      "metadata": {
        "id": "GZZBpfbPsAHi"
      },
      "source": [
        "means = X_training.mean(0)\n",
        "stds = X_training.std(0)\n",
        "X_training_norm = torch.nan_to_num((X_training-means)/stds)\n",
        "X_testing_norm = torch.nan_to_num((X_testing-means)/stds)"
      ],
      "execution_count": 324,
      "outputs": []
    },
    {
      "cell_type": "markdown",
      "metadata": {
        "id": "OlZ2RnpxuA5D"
      },
      "source": [
        "### 3.2 Creazione regressore lineare\n",
        "*    Creazione del modello di regressione lineare"
      ]
    },
    {
      "cell_type": "code",
      "metadata": {
        "id": "aIXyHf3eAp-E"
      },
      "source": [
        "from torch import nn\n",
        "\n",
        "class LinearRegressor(nn.Module):\n",
        "  def __init__(self, in_size, out_size):\n",
        "    super(LinearRegressor, self).__init__()\n",
        "\n",
        "    self.linear = nn.Linear(in_size,out_size)\n",
        "\n",
        "  def forward(self,x):\n",
        "    result = self.linear(x)\n",
        "\n",
        "    return result\n"
      ],
      "execution_count": 325,
      "outputs": []
    },
    {
      "cell_type": "markdown",
      "metadata": {
        "id": "3KS5aiScuc_b"
      },
      "source": [
        "### 3.3 Training e Testing del regressore lineare\n",
        "*La funzione di loss utilizzata è la MSE*"
      ]
    },
    {
      "cell_type": "code",
      "metadata": {
        "id": "EMul-WfsBWKK"
      },
      "source": [
        "from torch.utils.tensorboard import SummaryWriter\n",
        "\n",
        "writer = SummaryWriter('logs/linear_regressor')\n",
        "\n",
        "reg = LinearRegressor(16,1)\n",
        "criterion = nn.MSELoss()\n",
        "optimizer = torch.optim.SGD(reg.parameters(),lr=lr_linear)\n",
        "losses_train = []\n",
        "losses_test = []\n",
        "for e in range(epochs_linear):\n",
        "  if(mode_train_linear == True):\n",
        "    reg.train()\n",
        "    output = reg(X_training_norm)\n",
        "    l = criterion(output.view(-1),Y_training)\n",
        "    losses_train.append(l.item())\n",
        "    writer.add_scalar('loss/train', l.item(), global_step=e)\n",
        "\n",
        "    l.backward()\n",
        "\n",
        "    optimizer.step()\n",
        "    optimizer.zero_grad()\n",
        "\n",
        "  if(mode_test_linear == True):\n",
        "    reg.eval()\n",
        "\n",
        "    if(mode_train_linear == True):\n",
        "      with torch.set_grad_enabled(False):\n",
        "        y_test=reg(X_testing_norm)\n",
        "        l = criterion(y_test.view(-1),Y_testing)\n",
        "        losses_test.append(l.item())\n",
        "        writer.add_scalar('loss/test', l.item(), global_step=e)\n",
        "        \n",
        "    else:\n",
        "      y_test=reg(X_testing_norm)\n",
        "      l = criterion(y_test.view(-1),Y_testing)\n",
        "      losses_test.append(l.item())\n",
        "      writer.add_scalar('loss/test', l.item(), global_step=e)\n",
        "      l.backward()\n",
        "      optimizer.step()\n",
        "      optimizer.zero_grad()\n"
      ],
      "execution_count": 326,
      "outputs": []
    },
    {
      "cell_type": "markdown",
      "metadata": {
        "id": "yB_lP2Jowapq"
      },
      "source": [
        "### 3.4 Valutazione dei risultati del regressore lineare\n",
        "*    Plot del grafico di epoche vs loss dei training e di test\n",
        "*    Calcolo del MSE, MAE, RMSE di training e di test\n",
        "*    Plot del grafico REC di training e di test"
      ]
    },
    {
      "cell_type": "code",
      "metadata": {
        "colab": {
          "base_uri": "https://localhost:8080/",
          "height": 497
        },
        "id": "JfRlFl-9CQda",
        "outputId": "07179c24-45c1-4182-fe07-69596051ea2f"
      },
      "source": [
        "from matplotlib import pyplot as plt\n",
        "plt.figure(figsize=(12,8))\n",
        "plt.plot(losses_train)\n",
        "plt.plot(losses_test)\n",
        "plt.xlabel('epochs')\n",
        "plt.ylabel('loss')\n",
        "plt.grid()\n",
        "plt.legend(['Training','Testing'])\n",
        "plt.show()"
      ],
      "execution_count": 327,
      "outputs": [
        {
          "output_type": "display_data",
          "data": {
            "image/png": "[encoded data removed]",
            "text/plain": [
              "<Figure size 864x576 with 1 Axes>"
            ]
          },
          "metadata": {
            "needs_background": "light"
          }
        }
      ]
    },
    {
      "cell_type": "code",
      "metadata": {
        "id": "HEkpRGa_L6nB",
        "colab": {
          "base_uri": "https://localhost:8080/"
        },
        "outputId": "85cce104-5bc0-4e87-a9a5-92745ba3bffb"
      },
      "source": [
        "preds_training = reg(X_training_norm)\n",
        "preds_testing = reg(X_testing_norm)\n",
        "\n",
        "def MSE(predictions, gt):\n",
        "  assert predictions.shape == gt.shape\n",
        "  return ((predictions-gt)**2).mean()\n",
        "\n",
        "print(\"Mean Squared Error (MSE) di training: {:0.2f}\".format(MSE(preds_training.view(-1),Y_training)))\n",
        "print(\"Mean Squared Error (MSE) di testing: {:0.2f}\".format(MSE(preds_testing.view(-1),Y_testing)))\n",
        "\n",
        "def RMSE(predictions, gt):\n",
        "  assert predictions.shape == gt.shape\n",
        "  return ((predictions-gt)**2).mean()**(1/2)\n",
        "print(\"Root Mean Squared Error (RMSE) di training: {:0.2f}\".format(RMSE(preds_training.view(-1),Y_training)))\n",
        "print(\"Root Mean Squared Error (RMSE) di testing: {:0.2f}\".format(RMSE(preds_testing.view(-1),Y_testing)))\n",
        "\n",
        "def MAE(predictions, gt):\n",
        "  assert predictions.shape == gt.shape\n",
        "  return ((predictions-gt).abs()).mean()\n",
        "print(\"Mean Absolute Error (MAE) di training: {:0.2f}\".format(MAE(preds_training.view(-1),Y_training)))\n",
        "print(\"Mean Absolute Error (MAE) di testing: {:0.2f}\".format(MAE(preds_testing.view(-1),Y_testing)))"
      ],
      "execution_count": 328,
      "outputs": [
        {
          "output_type": "stream",
          "name": "stdout",
          "text": [
            "Mean Squared Error (MSE) di training: 0.51\n",
            "Mean Squared Error (MSE) di testing: 0.66\n",
            "Root Mean Squared Error (RMSE) di training: 0.72\n",
            "Root Mean Squared Error (RMSE) di testing: 0.81\n",
            "Mean Absolute Error (MAE) di training: 0.58\n",
            "Mean Absolute Error (MAE) di testing: 0.66\n"
          ]
        }
      ]
    },
    {
      "cell_type": "code",
      "metadata": {
        "colab": {
          "base_uri": "https://localhost:8080/",
          "height": 265
        },
        "id": "rDXGHbouKAuc",
        "outputId": "5b848d0a-f864-4fef-9161-0d25e1f55b80"
      },
      "source": [
        "from matplotlib import pyplot as plt\n",
        "def rec_curve(predictions, gt):\n",
        "  assert predictions.shape == gt.shape\n",
        "  errors = np.abs(np.array((predictions.detach()-gt)))\n",
        "  tolerances = sorted(np.unique(errors))\n",
        "  correct = []\n",
        "  for t in tolerances:\n",
        "    correct.append((errors<=t).mean())\n",
        "  AUC = np.trapz(correct, tolerances)\n",
        "  tot_area = np.max(tolerances)*1\n",
        "  AOC = tot_area - AUC\n",
        "  return tolerances, correct, AOC\n",
        "\n",
        "linear_regressor_training_rec = rec_curve(preds_training.view(-1),Y_training)\n",
        "linear_regressor_testing_rec = rec_curve(preds_testing.view(-1),Y_testing)\n",
        "plt.plot(linear_regressor_training_rec[0], linear_regressor_training_rec[1])\n",
        "plt.plot(linear_regressor_testing_rec[0], linear_regressor_testing_rec[1])\n",
        "plt.legend(['Linear Regressor [train]. AOC: %0.2f'%linear_regressor_training_rec[2],'Linear Regressor [test]. AOC: %0.2f'%linear_regressor_testing_rec[2]])\n",
        "plt.grid()\n",
        "plt.show()"
      ],
      "execution_count": 329,
      "outputs": [
        {
          "output_type": "display_data",
          "data": {
            "image/png": "[encoded data removed]",
            "text/plain": [
              "<Figure size 432x288 with 1 Axes>"
            ]
          },
          "metadata": {
            "needs_background": "light"
          }
        }
      ]
    },
    {
      "cell_type": "markdown",
      "metadata": {
        "id": "Fco1H2UZxtYR"
      },
      "source": [
        "##**4 Regressione Logistica**"
      ]
    },
    {
      "cell_type": "markdown",
      "metadata": {
        "id": "DBHR7JiB0MQa"
      },
      "source": [
        "### 4.1 Normalizzazione dati\n",
        "*    Creazione del dataset di training\n",
        "*    Creazione del dataset di test\n",
        "*    Normalizzazione dei dati secondo il metodo zscore"
      ]
    },
    {
      "cell_type": "code",
      "metadata": {
        "id": "VB-3JfWF0MQb"
      },
      "source": [
        "from sklearn.model_selection import train_test_split\n",
        "\n",
        "train, test = train_test_split(data, test_size=0.2)\n",
        "X_training = torch.Tensor(train.values)\n",
        "Y_training = torch.Tensor(train[\"Status Code\"].values)"
      ],
      "execution_count": 331,
      "outputs": []
    },
    {
      "cell_type": "code",
      "metadata": {
        "id": "7UrxxBgr0MQb"
      },
      "source": [
        "X_testing = torch.Tensor(test.values)\n",
        "Y_testing = torch.Tensor(test[\"Status Code\"].values)"
      ],
      "execution_count": 332,
      "outputs": []
    },
    {
      "cell_type": "code",
      "metadata": {
        "id": "XCAe9_R00MQc"
      },
      "source": [
        "means = X_training.mean(0)\n",
        "stds = X_training.std(0)\n",
        "X_training_norm = torch.nan_to_num((X_training-means)/stds)\n",
        "X_testing_norm = torch.nan_to_num((X_testing-means)/stds)"
      ],
      "execution_count": 333,
      "outputs": []
    },
    {
      "cell_type": "markdown",
      "metadata": {
        "id": "DYIcl6dY0WDy"
      },
      "source": [
        "### 4.2 Creazione regressore logistico\n",
        "*    Creazione del modello di regressione logistica"
      ]
    },
    {
      "cell_type": "code",
      "metadata": {
        "id": "LZWGkASJ0W1z"
      },
      "source": [
        "from torch import nn\n",
        "\n",
        "class LogisticRegressor(nn.Module):\n",
        "  def __init__(self, in_features):\n",
        "    super(LogisticRegressor, self).__init__() \n",
        "    self.linear = nn.Linear(in_features,1) \n",
        "    self.logistic = nn.Sigmoid()\n",
        "\n",
        "  def forward(self,x):\n",
        "    logits = self.linear(x)\n",
        "    return self.logistic(logits)"
      ],
      "execution_count": 334,
      "outputs": []
    },
    {
      "cell_type": "markdown",
      "metadata": {
        "id": "Say3Aydg13EA"
      },
      "source": [
        "### 4.3 Training e Testing del regressore logistico\n",
        "*La funzione di loss utilizzata è la BCEWithLogitsLoss*"
      ]
    },
    {
      "cell_type": "code",
      "metadata": {
        "id": "CauXBBKSZwCY"
      },
      "source": [
        "def accuracy(pred,gt):\n",
        "  correct = pred.view(-1).byte()==gt.view(-1).byte()\n",
        "  return float(correct.sum())/len(correct)"
      ],
      "execution_count": 335,
      "outputs": []
    },
    {
      "cell_type": "code",
      "metadata": {
        "id": "DS_z7ZtM1W7S"
      },
      "source": [
        "from torch.utils.tensorboard import SummaryWriter\n",
        "writer = SummaryWriter('logs/logistic_regressor_3')\n",
        "\n",
        "\n",
        "means = X_training.mean(0)\n",
        "stds = X_training.std(0)\n",
        "X_training_norm = (X_training-means)/stds\n",
        "X_testing_norm = (X_testing-means)/stds\n",
        "regressor = LogisticRegressor(16)\n",
        "loss = nn.BCEWithLogitsLoss()\n",
        "sgd = torch.optim.SGD(regressor.parameters(), lr_logistic)\n",
        "logistic = nn.Sigmoid()\n",
        "\n",
        "for e in range(epochs_logistic):\n",
        "  regressor.train()\n",
        "  z = regressor(X_training_norm)\n",
        "  l = loss(z, Y_training.view(-1,1))\n",
        "  l.backward()\n",
        "  writer.add_scalar('loss/train',l.item(),global_step=e)\n",
        "  sgd.step()\n",
        "  sgd.zero_grad()\n",
        "\n",
        "  p=logistic(z)\n",
        "  writer.add_scalar('accuracy/train',accuracy(p>=0.5,Y_training),global_step=e)\n",
        "\n",
        "  regressor.eval()\n",
        "  with torch.set_grad_enabled(False):\n",
        "    z = regressor(X_testing_norm)\n",
        "    l = loss(z, Y_testing.view(-1,1))\n",
        "    writer.add_scalar('loss/test',l.item(),global_step=e)\n",
        "\n",
        "    p=logistic(z)\n",
        "    writer.add_scalar('accuracy/test',accuracy(p>=0.5,Y_testing),global_step=e)\n"
      ],
      "execution_count": 336,
      "outputs": []
    },
    {
      "cell_type": "code",
      "metadata": {
        "id": "CuHq5NwPrfbG"
      },
      "source": [
        "preds_training = logistic(regressor(X_training_norm))>=0.5\n",
        "preds_testing = logistic(regressor(X_testing_norm))>=0.5"
      ],
      "execution_count": 337,
      "outputs": []
    },
    {
      "cell_type": "markdown",
      "metadata": {
        "id": "VFFBNTSdpfRO"
      },
      "source": [
        "### 4.4 Valutazione dei risultati del regressore logistico\n",
        "*    Calcolo della confusion matrix\n",
        "*    Calcolo dell'accuracy, recall, precision F1 score di training e test\n",
        "*    Plot del grafico REC di training e di test"
      ]
    },
    {
      "cell_type": "code",
      "metadata": {
        "id": "IR63eUbD2TJK",
        "colab": {
          "base_uri": "https://localhost:8080/"
        },
        "outputId": "0a56897c-98c1-4b26-e011-96f2249fa68c"
      },
      "source": [
        "from sklearn.metrics import confusion_matrix\n",
        "cm_training = confusion_matrix(Y_training,preds_training)\n",
        "cm_testing = confusion_matrix(Y_testing,preds_testing)\n",
        "cm_testing = cm_testing.astype(float)/cm_testing.sum(1).reshape(-1,1)\n",
        "print(cm_testing)"
      ],
      "execution_count": 338,
      "outputs": [
        {
          "output_type": "stream",
          "name": "stdout",
          "text": [
            "[[0. 1.]\n",
            " [0. 1.]]\n"
          ]
        }
      ]
    },
    {
      "cell_type": "code",
      "metadata": {
        "id": "gN3qZLva2TEb",
        "colab": {
          "base_uri": "https://localhost:8080/"
        },
        "outputId": "6fab7280-3cc9-47d3-c49b-da7f150b9387"
      },
      "source": [
        "from sklearn.metrics import accuracy_score\n",
        "acc_training = accuracy_score(Y_training,preds_training)\n",
        "acc_testing = accuracy_score(Y_testing,preds_testing)\n",
        "print(\"Accuracy di training: {:0.2f}\".format(acc_training))\n",
        "print(\"Accuracy di test: {:0.2f}\".format(acc_testing))"
      ],
      "execution_count": 339,
      "outputs": [
        {
          "output_type": "stream",
          "name": "stdout",
          "text": [
            "Accuracy di training: 0.51\n",
            "Accuracy di test: 0.54\n"
          ]
        }
      ]
    },
    {
      "cell_type": "code",
      "metadata": {
        "colab": {
          "base_uri": "https://localhost:8080/"
        },
        "id": "oCJcnXLLabHO",
        "outputId": "f4eff080-ad2f-4b8f-eb04-3dc39b75e779"
      },
      "source": [
        "from sklearn.metrics import precision_score, recall_score\n",
        "precision_training = precision_score(Y_training, preds_training)\n",
        "precision_test = precision_score(Y_testing, preds_testing)\n",
        "recall_training = recall_score(Y_training, preds_training)\n",
        "recall_test = recall_score(Y_testing, preds_testing)\n",
        "print(precision_training, recall_training)\n",
        "print(precision_test, recall_test)"
      ],
      "execution_count": 340,
      "outputs": [
        {
          "output_type": "stream",
          "name": "stdout",
          "text": [
            "0.5098039215686274 1.0\n",
            "0.5384615384615384 1.0\n"
          ]
        }
      ]
    },
    {
      "cell_type": "code",
      "metadata": {
        "colab": {
          "base_uri": "https://localhost:8080/"
        },
        "id": "Vodj58Z6almq",
        "outputId": "b733f902-4772-4926-c52f-d294404783e9"
      },
      "source": [
        "from sklearn.metrics import f1_score\n",
        "scores_training = f1_score(Y_training,preds_training, average=None)\n",
        "scores_testing = f1_score(Y_testing,preds_testing, average=None)\n",
        "print(scores_training.mean())\n",
        "print(scores_testing.mean())"
      ],
      "execution_count": 341,
      "outputs": [
        {
          "output_type": "stream",
          "name": "stdout",
          "text": [
            "0.33766233766233766\n",
            "0.35000000000000003\n"
          ]
        }
      ]
    },
    {
      "cell_type": "markdown",
      "metadata": {
        "id": "eARNCGIBte33"
      },
      "source": [
        "##**5 Inferenza dei dati**"
      ]
    },
    {
      "cell_type": "code",
      "metadata": {
        "id": "OkMDkcudtp9K"
      },
      "source": [
        "X_inference = torch.Tensor(data.values)\n",
        "means = X_training.mean(0)\n",
        "stds = X_training.std(0)\n",
        "X_inference_norm = torch.nan_to_num((X_inference-means)/stds)\n",
        "preds_inference_linear = reg(X_inference_norm)\n",
        "preds_inference_logistic = logistic(regressor(X_inference_norm))>=0.5\n"
      ],
      "execution_count": 354,
      "outputs": []
    },
    {
      "cell_type": "code",
      "metadata": {
        "id": "XYWszV6V5Ddn",
        "colab": {
          "base_uri": "https://localhost:8080/",
          "height": 175
        },
        "outputId": "59cf3e10-63e9-4119-98e0-a6de81e11bab"
      },
      "source": [
        "original_estimations_df = data[[\"Delivery Date\"]]\n",
        "original_estimations_predicted_column = original_estimations_df.iloc[:, 0]\n",
        "original_status_df = data[[\"Status Code\"]]\n",
        "original_status_predicted_column = original_status_df.iloc[:, 0]\n",
        "\n",
        "estimations_df = pd.DataFrame(preds_inference_linear.detach().numpy()).astype(int)\n",
        "estimations_df = estimations_df.set_index(original_estimations_df.index)\n",
        "estimations_predicted_column = estimations_df.iloc[:, 0]\n",
        "status_df = pd.DataFrame(preds_inference_logistic.detach().numpy()).astype(int)\n",
        "status_df = status_df.set_index(original_status_df.index)\n",
        "status_predicted_column = status_df.iloc[:, 0]\n",
        "\n",
        "datas = [original_estimations_predicted_column, estimations_predicted_column, original_status_predicted_column, status_predicted_column]\n",
        "headers = [\"Original Delivery Date\", \"Delivery Date Predicted\", \"Original Status\", \"Status Predicted\"]\n",
        "predicted_df = pd.concat(datas, axis=1, keys=headers)\n",
        "\n",
        "predicted_df"
      ],
      "execution_count": 355,
      "outputs": [
        {
          "output_type": "execute_result",
          "data": {
            "text/html": [
              "<div>\n",
              "<style scoped>\n",
              "    .dataframe tbody tr th:only-of-type {\n",
              "        vertical-align: middle;\n",
              "    }\n",
              "\n",
              "    .dataframe tbody tr th {\n",
              "        vertical-align: top;\n",
              "    }\n",
              "\n",
              "    .dataframe thead th {\n",
              "        text-align: right;\n",
              "    }\n",
              "</style>\n",
              "<table border=\"1\" class=\"dataframe\">\n",
              "  <thead>\n",
              "    <tr style=\"text-align: right;\">\n",
              "      <th></th>\n",
              "      <th>Original Delivery Date</th>\n",
              "      <th>Delivery Date Predicted</th>\n",
              "      <th>Original Status</th>\n",
              "      <th>Status Predicted</th>\n",
              "    </tr>\n",
              "    <tr>\n",
              "      <th>Issue key</th>\n",
              "      <th></th>\n",
              "      <th></th>\n",
              "      <th></th>\n",
              "      <th></th>\n",
              "    </tr>\n",
              "  </thead>\n",
              "  <tbody>\n",
              "    <tr>\n",
              "      <th>KKK-25888</th>\n",
              "      <td>30</td>\n",
              "      <td>31</td>\n",
              "      <td>0</td>\n",
              "      <td>1</td>\n",
              "    </tr>\n",
              "    <tr>\n",
              "      <th>KKK-25889</th>\n",
              "      <td>17</td>\n",
              "      <td>18</td>\n",
              "      <td>0</td>\n",
              "      <td>1</td>\n",
              "    </tr>\n",
              "    <tr>\n",
              "      <th>KKK-25160</th>\n",
              "      <td>18</td>\n",
              "      <td>19</td>\n",
              "      <td>1</td>\n",
              "      <td>1</td>\n",
              "    </tr>\n",
              "  </tbody>\n",
              "</table>\n",
              "</div>"
            ],
            "text/plain": [
              "           Original Delivery Date  ...  Status Predicted\n",
              "Issue key                          ...                  \n",
              "KKK-25888                      30  ...                 1\n",
              "KKK-25889                      17  ...                 1\n",
              "KKK-25160                      18  ...                 1\n",
              "\n",
              "[3 rows x 4 columns]"
            ]
          },
          "metadata": {},
          "execution_count": 355
        }
      ]
    }
  ]
}